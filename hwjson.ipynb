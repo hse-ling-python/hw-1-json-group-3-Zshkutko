{
 "cells": [
  {
   "cell_type": "markdown",
   "metadata": {},
   "source": [
    "# Шкутько Злата \n",
    "# БКЛ183"
   ]
  },
  {
   "cell_type": "markdown",
   "metadata": {},
   "source": [
    "## 1. Сколько твитов в наборе?\n",
    "создаем список для твитов, делаем json объектом питона, считаем через len кол-во твитов"
   ]
  },
  {
   "cell_type": "code",
   "execution_count": 3,
   "metadata": {},
   "outputs": [
    {
     "name": "stdout",
     "output_type": "stream",
     "text": [
      "Всего твитов: 2556\n"
     ]
    }
   ],
   "source": [
    "from collections import Counter\n",
    "from string import punctuation\n",
    "import json\n",
    "import re\n",
    "\n",
    "twitter = []\n",
    "for line in open('hw_3_twitter.json'):\n",
    "    twitter.append(json.loads(line)) #сделали из этого объект для питона\n",
    "tweets = len(twitter) #считается кол-во твитов в файле\n",
    "print('Всего твитов: ' + str(tweets))"
   ]
  },
  {
   "cell_type": "markdown",
   "metadata": {},
   "source": [
    "## 2. Какой процент твитов составляют удаленные записи? (помеченные как deleted)\n",
    "достаем статус твита, наполняем словарь не удаленными, находим процентную составляющую"
   ]
  },
  {
   "cell_type": "code",
   "execution_count": 4,
   "metadata": {},
   "outputs": [
    {
     "name": "stdout",
     "output_type": "stream",
     "text": [
      "Удалённых твитов: 14.162754303599373%\n"
     ]
    }
   ],
   "source": [
    "del_tweets = [] #список для удалённых твитов\n",
    "for tweet in twitter:\n",
    "    if tweet.get('delete') is not None:\n",
    "        del_tweets.append(tweet) #наполняем словарь существующими удалёнными твитами\n",
    "per_del_tweets = ('Удалённых твитов: ' + str(len(del_tweets)/len(twitter)*100) + '%') #считаем их процент от всех\n",
    "print(per_del_tweets)"
   ]
  },
  {
   "cell_type": "markdown",
   "metadata": {},
   "source": [
    "## 3. Какие самые популярные языки твитов?\n",
    "достаём значение lang (языки), наполняем словарь, делаем counter и выводим 25 самых популярных"
   ]
  },
  {
   "cell_type": "code",
   "execution_count": 5,
   "metadata": {},
   "outputs": [
    {
     "name": "stdout",
     "output_type": "stream",
     "text": [
      "25 наиболее популярных языков:\n",
      "en 719\n",
      "ja 438\n",
      "es 173\n",
      "ko 149\n",
      "th 123\n",
      "ar 119\n",
      "und 117\n",
      "in 71\n",
      "pt 69\n",
      "fr 35\n",
      "tr 30\n",
      "tl 29\n",
      "hi 23\n",
      "ru 15\n",
      "fa 8\n",
      "zh 8\n",
      "ca 7\n",
      "ur 6\n",
      "nl 6\n",
      "de 6\n",
      "ta 4\n",
      "it 4\n",
      "ht 4\n",
      "et 4\n",
      "pl 4\n"
     ]
    }
   ],
   "source": [
    "popular_lang = [] #список для языков\n",
    "for tweet in twitter:\n",
    "    if tweet.get('lang') is not None: #достаём существующие твиты\n",
    "        popular_lang.append(tweet.get('lang')) #наполняем словарь этими твитами\n",
    "print('25 наиболее популярных языков:')\n",
    "for i in Counter(popular_lang).most_common(25): #делаем counter и берем самые частые 25 языков (нормальный вывод)\n",
    "    print(i[0], i[1])"
   ]
  },
  {
   "cell_type": "markdown",
   "metadata": {},
   "source": [
    "## 4. Есть ли твиты от одного и того же пользователя? Если да, то сколько таких пользователей?\n",
    "достаём id существующих юзеров, наполняем словарь, делаем counter, ставим условие на кол-во нахождений, наполняем список и берем его длину"
   ]
  },
  {
   "cell_type": "code",
   "execution_count": 6,
   "metadata": {},
   "outputs": [
    {
     "name": "stdout",
     "output_type": "stream",
     "text": [
      "Да, есть\n",
      "Пользователей с неоднокраными твитами: 25\n"
     ]
    }
   ],
   "source": [
    "users_id = [] #список для id\n",
    "same_users = []\n",
    "for tweet in twitter:\n",
    "    user = tweet.get('user')\n",
    "    if user is not None:\n",
    "        id = user.get('id') #достаём id\n",
    "        users_id.append(id)\n",
    "for i in Counter(users_id).most_common(): #делаем для счета употребления counter\n",
    "    if i[1] > 1:\n",
    "        same_users.append(i)\n",
    "print('Да, есть')\n",
    "print('Пользователей с неоднокраными твитами:', len(same_users))"
   ]
  },
  {
   "cell_type": "markdown",
   "metadata": {},
   "source": [
    "## 5. Топ-20 хэштегов (для них есть специальное поле)\n",
    "сначала надо достать entities, потом hashtags, потом text, добавить в список, сделать counter и выести 20 самых популярных"
   ]
  },
  {
   "cell_type": "code",
   "execution_count": 7,
   "metadata": {},
   "outputs": [
    {
     "name": "stdout",
     "output_type": "stream",
     "text": [
      "Топ-20 хэштегов:\n",
      "BTS 17\n",
      "방탄소년단 13\n",
      "AMAs 11\n",
      "人気投票ガチャ 8\n",
      "태형 7\n",
      "뷔 6\n",
      "BTSinChicago 5\n",
      "BTSLoveYourselfTour 5\n",
      "오늘의방탄 5\n",
      "PledgeForSwachhBharat 5\n",
      "MPN 5\n",
      "PCAs 4\n",
      "V 4\n",
      "시카고1회차공연 4\n",
      "เป๊กผลิตโชค 4\n",
      "JIMIN 4\n",
      "running 3\n",
      "NCT 3\n",
      "지민 3\n",
      "WajahmuPlastik 3\n"
     ]
    }
   ],
   "source": [
    "hashtags_a = [] #список для хэштегов\n",
    "for tweet in twitter: #достаём хэштеги\n",
    "    entities = tweet.get('entities') #достаем entities\n",
    "    if entities is not None:\n",
    "        hashtags = entities.get('hashtags') #делаем переменную с entities\n",
    "        for i in hashtags:\n",
    "            hhashtags = i.get('text') #достаём текст хэштегов\n",
    "            hashtags_a.append(hhashtags)\n",
    "print('Топ-20 хэштегов:')\n",
    "for i in Counter(hashtags_a).most_common(20): #приводим в нормальный внешний вид\n",
    "    print(i[0], i[1])"
   ]
  },
  {
   "cell_type": "markdown",
   "metadata": {},
   "source": [
    "## 6. Предобработать тексты оригинальных твитов (не ретвитов) на английском языке (убрать пунктуацию, привести к нижнему регистру) и составить частотный словарь\n",
    "достаем значение ретвитов, не ретвиты заносим список, если есть, то достаем full_text, нет - text, добавляем это в список, потом приводим к нинему регистру, убираем пунктуацию, убираем эмодзи, заносим в список, делаем из него строку (через цикл выводим преобразоанный текст), делаем split на слова, и выводим counter"
   ]
  },
  {
   "cell_type": "code",
   "execution_count": null,
   "metadata": {},
   "outputs": [],
   "source": [
    "not_retweeted = []\n",
    "texts = []\n",
    "for tweet in twitter:\n",
    "    retweeted = tweet.get('retweeted') #достаём значение ретвитов\n",
    "    if retweeted is not None:\n",
    "        not_retweeted.append(tweet)\n",
    "    for i in not_retweeted:\n",
    "        if i.get('extended_tweet') is not None: #есть есть full_text\n",
    "            extended_tweet = i.get('extended_tweet')\n",
    "            extended_tweet.get('full_text')\n",
    "            texts.append(extended_tweet.get('full_text'))\n",
    "        else: #если его нет\n",
    "            texts.append(i.get('text'))\n",
    "clean_texts = [] #список для чистых текстов\n",
    "string_texts = ''\n",
    "for t in texts: #приводим к нижнему регистру\n",
    "    t = t.lower()\n",
    "    for p in punctuation: #убираем пунктуацию\n",
    "        t = t.replace(p, '')\n",
    "    t = t.encode('ascii', 'ignore').decode('ascii') #убираем эмодзи\n",
    "    clean_texts.append(t)\n",
    "    string_texts += t #делаем строку из списка\n",
    "print('Преобразованный текст:')\n",
    "for k in clean_texts:\n",
    "    print(k)\n",
    "string_texts = string_texts.split(' ') #сплит на слова\n",
    "print('Частотный словарь:')\n",
    "print(Counter(string_texts))"
   ]
  },
  {
   "cell_type": "markdown",
   "metadata": {},
   "source": [
    "## 7. Найти количество подписчиков (фолловеров) у авторов твитов и вывести топ-10\n",
    "достаём сущестующие твиты, потом кол-во фолловеров, потом имена юзеров, делаем словарь из этого, делаем список кортежей из словаря (ключ, значение), сортируем по 2 элементу пар, сортируем по убыанию, обрезаем список и выводим "
   ]
  },
  {
   "cell_type": "code",
   "execution_count": null,
   "metadata": {},
   "outputs": [],
   "source": [
    "popular_users = {}\n",
    "for tweet in twitter:\n",
    "    user = tweet.get('user')\n",
    "    if user is not None:\n",
    "        followers_count = user.get('followers_count') #достаём кол-во фолловеров\n",
    "        name = user.get('name')  #достаём имя\n",
    "        popular_users[name] = followers_count\n",
    "list_popular_users = list(popular_users.items()) #список кортежей из словаря (ключ, значение), сортируем по второму элементу пар\n",
    "list_popular_users.sort(key = lambda i: i[1], reverse = True) #сортировка по убыванию \n",
    "print('15 самых читаемых юзеров:')\n",
    "for i in list_popular_users[:10]: #обрезаем список\n",
    "    print(i[0], i[1]) #делаем вида ключ:значение (имя юзера:кол-во фолловеров)"
   ]
  },
  {
   "cell_type": "markdown",
   "metadata": {},
   "source": [
    "## 8. * Топ-10 источников твита (из какого приложения написан) (подсказка: для обработки используйте регулярные выражения)\n",
    "достаем source, делем регулярку, с помощью group добавляем в список только источник, потом делаем counter и выводим 10 самых популярных источников"
   ]
  },
  {
   "cell_type": "code",
   "execution_count": null,
   "metadata": {
    "scrolled": true
   },
   "outputs": [],
   "source": [
    "links = [] #для источников\n",
    "for tweet in twitter:\n",
    "    source = tweet.get('source') #достаём источник\n",
    "    if source is not None:\n",
    "        link = re.search(r'<.*>(.*)</a>', source)\n",
    "        links.append(link.group(1)) #group чтобы достать только источник\n",
    "print('10 наиболее популярных источников твита:')\n",
    "for i in Counter(links).most_common(10):\n",
    "    print(i[0], i[1])"
   ]
  }
 ],
 "metadata": {
  "kernelspec": {
   "display_name": "Python 3",
   "language": "python",
   "name": "python3"
  },
  "language_info": {
   "codemirror_mode": {
    "name": "ipython",
    "version": 3
   },
   "file_extension": ".py",
   "mimetype": "text/x-python",
   "name": "python",
   "nbconvert_exporter": "python",
   "pygments_lexer": "ipython3",
   "version": "3.7.0"
  }
 },
 "nbformat": 4,
 "nbformat_minor": 2
}
